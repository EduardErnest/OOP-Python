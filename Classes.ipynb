{
 "metadata": {
  "language_info": {
   "codemirror_mode": {
    "name": "ipython",
    "version": 3
   },
   "file_extension": ".py",
   "mimetype": "text/x-python",
   "name": "python",
   "nbconvert_exporter": "python",
   "pygments_lexer": "ipython3",
   "version": "3.8.7"
  },
  "orig_nbformat": 2,
  "kernelspec": {
   "name": "python387jvsc74a57bd05b4260a00b3ed15693c454bcdf6ec50ca670f0a815d6aa33dc8685d455672a81",
   "display_name": "Python 3.8.7 64-bit ('3.8.7': pyenv)"
  }
 },
 "nbformat": 4,
 "nbformat_minor": 2,
 "cells": [
  {
   "source": [
    "## OBJECTS AND CLASSES IN PYTHON \n",
    "\n",
    "Remember classes should always start using **CamelCase** notation ---> Start with a capital letter **PEP8**"
   ],
   "cell_type": "markdown",
   "metadata": {}
  },
  {
   "cell_type": "code",
   "execution_count": 1,
   "metadata": {},
   "outputs": [],
   "source": [
    "#imports \n",
    "import math"
   ]
  },
  {
   "cell_type": "code",
   "execution_count": 12,
   "metadata": {},
   "outputs": [
    {
     "output_type": "stream",
     "name": "stdout",
     "text": [
      "5.0\n4.47213595499958\n0.0\n"
     ]
    }
   ],
   "source": [
    "#Classes with multiple arguments:\n",
    "class Point:\n",
    "    \"\"\"Represents a point in 2-dim geometric coord\"\"\"\n",
    "    def move(self, x, y): #init the position of a new pointn\n",
    "        self.x = x\n",
    "        self.y = y\n",
    "\n",
    "    def reset(self):\n",
    "        \"\"\"Move the point to a new location in the 2d-space\"\"\"\n",
    "        self.move(0,0)\n",
    "\n",
    "    def calc_distance(self, other_point):\n",
    "        \"\"\"Calc the distance between the 2 points using pythag theorem\"\"\"  \n",
    "        return math.sqrt(\n",
    "            (self.x - other_point.x)**2+\n",
    "            (self.y - other_point.y)**2\n",
    "        )  \n",
    "#How to use it\n",
    "point1 = Point()\n",
    "point2 = Point()\n",
    "\n",
    "point1.reset()\n",
    "point2.move(5,0)\n",
    "\n",
    "print(point2.calc_distance(point1))\n",
    "assert (point2.calc_distance(point1) == \n",
    "        point1.calc_distance(point2)) #we use assert as a test method to ensure dist is the same no matter which point is being called\n",
    "\n",
    "point1.move(3,4)\n",
    "\n",
    "print(point1.calc_distance(point2))\n",
    "print(point1.calc_distance(point1))\n"
   ]
  },
  {
   "source": [
    "Using an __init__(initialiser)function "
   ],
   "cell_type": "markdown",
   "metadata": {}
  },
  {
   "cell_type": "code",
   "execution_count": 6,
   "metadata": {},
   "outputs": [
    {
     "output_type": "execute_result",
     "data": {
      "text/plain": [
       "(3, 5)"
      ]
     },
     "metadata": {},
     "execution_count": 6
    }
   ],
   "source": [
    "class Point_new():\n",
    "    def __init__(self,x, y):\n",
    "        self.move(x,y)\n",
    "\n",
    "    def move(self,x, y):\n",
    "        self.x = x\n",
    "        self.y = y\n",
    "    def reset(self):\n",
    "        self.move(0, 0)\n",
    "\n",
    "\n",
    "#constr a point\n",
    "\n",
    "point = Point_new(3,5)\n",
    "\n",
    "point.x,point.y #Jupyter doesn't need print statements -- if you run this like a py.file do use them\n"
   ]
  },
  {
   "source": [
    "## How to import Modules\n",
    "\n",
    "There are several variations of the import statement syntax that can be used to access a class. We want reusable modules and functions so we can have a more stable and efficient production code\n"
   ],
   "cell_type": "markdown",
   "metadata": {}
  },
  {
   "cell_type": "code",
   "execution_count": null,
   "metadata": {},
   "outputs": [],
   "source": [
    "#Ex 1 \n",
    "\n",
    "import database\n",
    "db = database.Database()\n",
    "#do stuff on db\n",
    "\n",
    "#Ex 2\n",
    "\n",
    "from database import Database\n",
    "db = Database()\n",
    "#do stuff on db\n",
    "\n",
    "#Ex3 if we have already a Database class in our project we can do it diff\n",
    "\n",
    "from database import Database as DB\n",
    "db = DB()\n",
    "#do stuff on db\n"
   ]
  },
  {
   "source": [
    "## Tuples"
   ],
   "cell_type": "markdown",
   "metadata": {}
  },
  {
   "cell_type": "code",
   "execution_count": 2,
   "metadata": {},
   "outputs": [],
   "source": [
    "from collections import namedtuple\n",
    "\n",
    "Stock= namedtuple('Stock', 'symbol current high low')\n",
    "stock = Stock('FB',75.00,high=75.03, low=73.00)"
   ]
  },
  {
   "cell_type": "code",
   "execution_count": 4,
   "metadata": {},
   "outputs": [
    {
     "output_type": "execute_result",
     "data": {
      "text/plain": [
       "73.0"
      ]
     },
     "metadata": {},
     "execution_count": 4
    }
   ],
   "source": [
    "stock.low"
   ]
  },
  {
   "cell_type": "code",
   "execution_count": 5,
   "metadata": {},
   "outputs": [
    {
     "output_type": "execute_result",
     "data": {
      "text/plain": [
       "75.0"
      ]
     },
     "metadata": {},
     "execution_count": 5
    }
   ],
   "source": [
    "stock.current"
   ]
  },
  {
   "source": [
    "## Dictionairies "
   ],
   "cell_type": "markdown",
   "metadata": {}
  },
  {
   "cell_type": "code",
   "execution_count": 7,
   "metadata": {},
   "outputs": [],
   "source": [
    "stocks = {\n",
    "    \"GOOG\":(414,400,300,200),\n",
    "    \"MSFT\":(39,45,29,60)\n",
    "}"
   ]
  },
  {
   "cell_type": "code",
   "execution_count": 9,
   "metadata": {},
   "outputs": [
    {
     "output_type": "execute_result",
     "data": {
      "text/plain": [
       "(39, 45, 29, 60)"
      ]
     },
     "metadata": {},
     "execution_count": 9
    }
   ],
   "source": [
    "stocks[\"MSFT\"]"
   ]
  },
  {
   "cell_type": "code",
   "execution_count": 11,
   "metadata": {},
   "outputs": [
    {
     "output_type": "execute_result",
     "data": {
      "text/plain": [
       "(19, 14, 56, 34)"
      ]
     },
     "metadata": {},
     "execution_count": 11
    }
   ],
   "source": [
    "stocks.setdefault(\"GOOG\",\"INVALID\")\n",
    "\n",
    "\n",
    "stocks.setdefault(\"BBRY\",(19,14,56,34))"
   ]
  },
  {
   "cell_type": "code",
   "execution_count": 12,
   "metadata": {},
   "outputs": [
    {
     "output_type": "execute_result",
     "data": {
      "text/plain": [
       "(19, 14, 56, 34)"
      ]
     },
     "metadata": {},
     "execution_count": 12
    }
   ],
   "source": [
    "stocks[\"BBRY\"]"
   ]
  },
  {
   "cell_type": "code",
   "execution_count": 14,
   "metadata": {},
   "outputs": [
    {
     "output_type": "execute_result",
     "data": {
      "text/plain": [
       "{'GOOG': (414, 400, 300, 200),\n",
       " 'MSFT': (39, 45, 29, 60),\n",
       " 'BBRY': (19, 14, 56, 34)}"
      ]
     },
     "metadata": {},
     "execution_count": 14
    }
   ],
   "source": [
    "stocks"
   ]
  },
  {
   "cell_type": "code",
   "execution_count": 13,
   "metadata": {},
   "outputs": [
    {
     "output_type": "stream",
     "name": "stdout",
     "text": [
      "GOOG last value is 414\nMSFT last value is 39\nBBRY last value is 19\n"
     ]
    }
   ],
   "source": [
    "#loop over key,value pairs\n",
    "for stock, values in stocks.items():\n",
    "    print(\"{} last value is {}\".format(stock,values[0]))"
   ]
  },
  {
   "cell_type": "code",
   "execution_count": null,
   "metadata": {},
   "outputs": [],
   "source": []
  }
 ]
}